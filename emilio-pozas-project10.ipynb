{
 "cells": [
  {
   "cell_type": "markdown",
   "id": "be02a957-7133-4d02-818e-fedeb3cecb05",
   "metadata": {},
   "source": [
    "# Project 10 -- Emilio Pozas"
   ]
  },
  {
   "cell_type": "markdown",
   "id": "a1228853-dd19-4ab2-89e0-0394d7d72de3",
   "metadata": {},
   "source": [
    "**TA Help:** \n",
    "    \n",
    "**Collaboration:** "
   ]
  },
  {
   "cell_type": "markdown",
   "id": "6180e742-8e39-4698-98ff-5b00c8cf8ea0",
   "metadata": {},
   "source": [
    "## Question 1"
   ]
  },
  {
   "cell_type": "code",
   "execution_count": 2,
   "id": "49445606-d363-41b4-b479-e319a9a84c01",
   "metadata": {},
   "outputs": [],
   "source": [
    "import pandas as pd"
   ]
  },
  {
   "cell_type": "code",
   "execution_count": 3,
   "id": "35d67c7d-f4b8-4750-8c59-3c81f553ca47",
   "metadata": {},
   "outputs": [],
   "source": [
    "pd.set_option('display.max_column',None)"
   ]
  },
  {
   "cell_type": "code",
   "execution_count": 4,
   "id": "1b3c7eb4-c0e8-4c59-bc0c-b1907b6b2584",
   "metadata": {},
   "outputs": [],
   "source": [
    "cols = [\n",
    "    'DepDelay', 'ArrDelay', 'Distance',\n",
    "    'CarrierDelay', 'WeatherDelay',\n",
    "    'DepTime', 'ArrTime', 'Diverted', 'AirTime'\n",
    "]\n",
    "\n",
    "col_types = {\n",
    "    'DepDelay': 'float64',\n",
    "    'ArrDelay': 'float64',\n",
    "    'Distance': 'float64',\n",
    "    'CarrierDelay': 'float64',\n",
    "    'WeatherDelay': 'float64',\n",
    "    'DepTime': 'float64',\n",
    "    'ArrTime': 'float64',\n",
    "    'Diverted': 'int64',\n",
    "    'AirTime': 'float64'\n",
    "}"
   ]
  },
  {
   "cell_type": "code",
   "execution_count": 5,
   "id": "11f919bc-5d35-47f1-9600-03c7d7412a4d",
   "metadata": {},
   "outputs": [],
   "source": [
    "myDF = pd.read_csv(\"/anvil/projects/tdm/data/flights/2014.csv\",usecols=cols, dtype=col_types)"
   ]
  },
  {
   "cell_type": "code",
   "execution_count": 7,
   "id": "55ff88d1-5d0e-4f6d-9b64-3fe5a06ccb3e",
   "metadata": {},
   "outputs": [
    {
     "data": {
      "text/html": [
       "<div>\n",
       "<style scoped>\n",
       "    .dataframe tbody tr th:only-of-type {\n",
       "        vertical-align: middle;\n",
       "    }\n",
       "\n",
       "    .dataframe tbody tr th {\n",
       "        vertical-align: top;\n",
       "    }\n",
       "\n",
       "    .dataframe thead th {\n",
       "        text-align: right;\n",
       "    }\n",
       "</style>\n",
       "<table border=\"1\" class=\"dataframe\">\n",
       "  <thead>\n",
       "    <tr style=\"text-align: right;\">\n",
       "      <th></th>\n",
       "      <th>DepTime</th>\n",
       "      <th>DepDelay</th>\n",
       "      <th>ArrTime</th>\n",
       "      <th>ArrDelay</th>\n",
       "      <th>Diverted</th>\n",
       "      <th>AirTime</th>\n",
       "      <th>Distance</th>\n",
       "      <th>CarrierDelay</th>\n",
       "      <th>WeatherDelay</th>\n",
       "    </tr>\n",
       "  </thead>\n",
       "  <tbody>\n",
       "    <tr>\n",
       "      <th>0</th>\n",
       "      <td>935.0</td>\n",
       "      <td>-5.0</td>\n",
       "      <td>1051.0</td>\n",
       "      <td>-4.0</td>\n",
       "      <td>0</td>\n",
       "      <td>56.0</td>\n",
       "      <td>328.0</td>\n",
       "      <td>NaN</td>\n",
       "      <td>NaN</td>\n",
       "    </tr>\n",
       "    <tr>\n",
       "      <th>1</th>\n",
       "      <td>951.0</td>\n",
       "      <td>11.0</td>\n",
       "      <td>1115.0</td>\n",
       "      <td>20.0</td>\n",
       "      <td>0</td>\n",
       "      <td>54.0</td>\n",
       "      <td>328.0</td>\n",
       "      <td>11.0</td>\n",
       "      <td>0.0</td>\n",
       "    </tr>\n",
       "    <tr>\n",
       "      <th>2</th>\n",
       "      <td>1144.0</td>\n",
       "      <td>9.0</td>\n",
       "      <td>1302.0</td>\n",
       "      <td>2.0</td>\n",
       "      <td>0</td>\n",
       "      <td>57.0</td>\n",
       "      <td>328.0</td>\n",
       "      <td>NaN</td>\n",
       "      <td>NaN</td>\n",
       "    </tr>\n",
       "    <tr>\n",
       "      <th>3</th>\n",
       "      <td>1134.0</td>\n",
       "      <td>-1.0</td>\n",
       "      <td>1253.0</td>\n",
       "      <td>-7.0</td>\n",
       "      <td>0</td>\n",
       "      <td>53.0</td>\n",
       "      <td>328.0</td>\n",
       "      <td>NaN</td>\n",
       "      <td>NaN</td>\n",
       "    </tr>\n",
       "    <tr>\n",
       "      <th>4</th>\n",
       "      <td>1129.0</td>\n",
       "      <td>-6.0</td>\n",
       "      <td>1244.0</td>\n",
       "      <td>-16.0</td>\n",
       "      <td>0</td>\n",
       "      <td>52.0</td>\n",
       "      <td>328.0</td>\n",
       "      <td>NaN</td>\n",
       "      <td>NaN</td>\n",
       "    </tr>\n",
       "  </tbody>\n",
       "</table>\n",
       "</div>"
      ],
      "text/plain": [
       "   DepTime  DepDelay  ArrTime  ArrDelay  Diverted  AirTime  Distance  \\\n",
       "0    935.0      -5.0   1051.0      -4.0         0     56.0     328.0   \n",
       "1    951.0      11.0   1115.0      20.0         0     54.0     328.0   \n",
       "2   1144.0       9.0   1302.0       2.0         0     57.0     328.0   \n",
       "3   1134.0      -1.0   1253.0      -7.0         0     53.0     328.0   \n",
       "4   1129.0      -6.0   1244.0     -16.0         0     52.0     328.0   \n",
       "\n",
       "   CarrierDelay  WeatherDelay  \n",
       "0           NaN           NaN  \n",
       "1          11.0           0.0  \n",
       "2           NaN           NaN  \n",
       "3           NaN           NaN  \n",
       "4           NaN           NaN  "
      ]
     },
     "execution_count": 7,
     "metadata": {},
     "output_type": "execute_result"
    }
   ],
   "source": [
    "myDF.head()"
   ]
  },
  {
   "cell_type": "markdown",
   "id": "fc601975-35ed-4680-a4e1-0273ee3cc047",
   "metadata": {},
   "source": [
    "## Question 2"
   ]
  },
  {
   "cell_type": "code",
   "execution_count": 8,
   "id": "babc1441-417c-4786-8dfb-d6ad1202c06a",
   "metadata": {},
   "outputs": [],
   "source": [
    "import numpy as np"
   ]
  },
  {
   "cell_type": "code",
   "execution_count": 9,
   "id": "a16336a1-1ef0-41e8-bc7c-49387db27497",
   "metadata": {},
   "outputs": [],
   "source": [
    "mydelays = myDF['DepDelay'].to_numpy()"
   ]
  },
  {
   "cell_type": "code",
   "execution_count": 11,
   "id": "e83d8d55-1654-431e-8df4-ae5b1b76dff0",
   "metadata": {},
   "outputs": [
    {
     "name": "stdout",
     "output_type": "stream",
     "text": [
      "the shape of numpy array is:  (5819811,)  and the shape is: float64\n"
     ]
    }
   ],
   "source": [
    "print('the shape of numpy array is: ', mydelays.shape, ' and the shape is:',mydelays.dtype)"
   ]
  },
  {
   "cell_type": "code",
   "execution_count": 13,
   "id": "681f1be8-8535-4dd8-b2db-3a27e181956e",
   "metadata": {},
   "outputs": [],
   "source": [
    "mydelays_clean = np.nan_to_num(mydelays)"
   ]
  },
  {
   "cell_type": "code",
   "execution_count": 14,
   "id": "175092ca-9e5d-4c96-b2e9-2d5d035ba8dc",
   "metadata": {},
   "outputs": [
    {
     "name": "stdout",
     "output_type": "stream",
     "text": [
      "The average Departure Delay before adding 15 is:  10.417677824932802\n"
     ]
    }
   ],
   "source": [
    "print(\"The average Departure Delay before adding 15 is: \", np.mean(mydelays_clean))"
   ]
  },
  {
   "cell_type": "code",
   "execution_count": 16,
   "id": "0ba83af4-2b95-4fbf-bccd-f80e350fa595",
   "metadata": {},
   "outputs": [
    {
     "name": "stdout",
     "output_type": "stream",
     "text": [
      "The average Departure Delay after adding 15 is:  25.417677824932802\n"
     ]
    }
   ],
   "source": [
    "print(\"The average Departure Delay after adding 15 is: \", np.mean(mydelays_clean + 15))"
   ]
  },
  {
   "cell_type": "markdown",
   "id": "8e586edd-ff26-4ce2-8f6b-2424b26f2929",
   "metadata": {},
   "source": [
    "## Question 3"
   ]
  },
  {
   "cell_type": "code",
   "execution_count": 17,
   "id": "7abcc696-1cee-4158-879f-251637fa2b48",
   "metadata": {},
   "outputs": [],
   "source": [
    "myarrivaldelays = myDF['ArrDelay'].to_numpy()"
   ]
  },
  {
   "cell_type": "code",
   "execution_count": 18,
   "id": "739a3439-73e9-4061-8161-5154db59bec2",
   "metadata": {},
   "outputs": [],
   "source": [
    "myarrivaldelays_clean = np.nan_to_num(myarrivaldelays)"
   ]
  },
  {
   "cell_type": "code",
   "execution_count": 23,
   "id": "bbe0f40d-9655-4653-9ca8-886bdb61cb91",
   "metadata": {},
   "outputs": [
    {
     "name": "stdout",
     "output_type": "stream",
     "text": [
      "Max Arrival Delay:  2444.0  minutes\n"
     ]
    }
   ],
   "source": [
    "print(\"Max Arrival Delay: \", np.max(myarrivaldelays_clean), \" minutes\")"
   ]
  },
  {
   "cell_type": "code",
   "execution_count": 24,
   "id": "fb048174-d4ed-4103-a99d-f6a4ab88f2a4",
   "metadata": {},
   "outputs": [
    {
     "name": "stdout",
     "output_type": "stream",
     "text": [
      "Min Arrival Delay:  -112.0  minutes\n"
     ]
    }
   ],
   "source": [
    "print(\"Min Arrival Delay: \", np.min(myarrivaldelays_clean), \" minutes\")"
   ]
  },
  {
   "cell_type": "markdown",
   "id": "da22f29c-d245-4d2b-9fc1-ca14cb6087d9",
   "metadata": {},
   "source": [
    "## Question 4"
   ]
  },
  {
   "cell_type": "code",
   "execution_count": 22,
   "id": "8cffc767-d1c8-4d64-b7dc-f0d2ee8a80d1",
   "metadata": {},
   "outputs": [],
   "source": [
    "import time"
   ]
  },
  {
   "cell_type": "code",
   "execution_count": 25,
   "id": "871b4ad6-f562-4b4a-a3d7-850625f677b7",
   "metadata": {},
   "outputs": [
    {
     "name": "stdout",
     "output_type": "stream",
     "text": [
      "The average flight distance for the delayed flights is 793.1002773092284.\n",
      "Used time is 0.04363870620727539\n"
     ]
    }
   ],
   "source": [
    "start_time = time.time()\n",
    "\n",
    "delayed_flights = myDF[(myDF['DepDelay'] > 60) | (myDF['ArrDelay'] > 60)]\n",
    "my_avg_distance = delayed_flights['Distance'].mean()\n",
    "print(f\"The average flight distance for the delayed flights is {my_avg_distance}.\")\n",
    "\n",
    "end_time = time.time()\n",
    "print(f\"Used time is {end_time - start_time}\")"
   ]
  },
  {
   "cell_type": "markdown",
   "id": "88c9cdac-3e92-498f-83fa-e089bfc44ac8",
   "metadata": {},
   "source": [
    "## Question 5"
   ]
  },
  {
   "cell_type": "code",
   "execution_count": 27,
   "id": "d370d7c9-06db-42b9-b75f-240481a5c491",
   "metadata": {},
   "outputs": [
    {
     "name": "stdout",
     "output_type": "stream",
     "text": [
      "The average flight distance for the delayed flights is 793.1002773092284.\n",
      "Used time is 0.014291048049926758\n"
     ]
    }
   ],
   "source": [
    "start_time = time.time()\n",
    "\n",
    "depdelay_array = myDF[\"DepDelay\"].to_numpy()\n",
    "arrdelay_array = myDF[\"ArrDelay\"].to_numpy()\n",
    "distance_array = myDF[\"Distance\"].to_numpy()\n",
    "\n",
    "filtered_distance = distance_array[(depdelay_array > 60) | (arrdelay_array > 60)]\n",
    "avg_distance = np.mean(filtered_distance)\n",
    "print(f\"The average flight distance for the delayed flights is {avg_distance}.\")\n",
    "\n",
    "end_time = time.time()\n",
    "print(f\"Used time is {end_time - start_time}\")"
   ]
  },
  {
   "cell_type": "markdown",
   "id": "9fbf00fb-2418-460f-ae94-2a32b0c28952",
   "metadata": {},
   "source": [
    "The time it takes is 0.014 seconds. From my understanding both are libraries that help you work with dataframes. The difference is that numpy is faster than pandas. It is also intresting to note that the code for numpy is longer in this case."
   ]
  },
  {
   "cell_type": "markdown",
   "id": "f76442d6-d02e-4f26-b9d6-c3183e1d6929",
   "metadata": {},
   "source": [
    "## Pledge\n",
    "\n",
    "By submitting this work I hereby pledge that this is my own, personal work. I've acknowledged in the designated place at the top of this file all sources that I used to complete said work, including but not limited to: online resources, books, and electronic communications. I've noted all collaboration with fellow students and/or TA's. I did not copy or plagiarize another's work.\n",
    "\n",
    "> As a Boilermaker pursuing academic excellence, I pledge to be honest and true in all that I do. Accountable together – We are Purdue."
   ]
  }
 ],
 "metadata": {
  "kernelspec": {
   "display_name": "seminar",
   "language": "python",
   "name": "seminar"
  },
  "language_info": {
   "codemirror_mode": {
    "name": "ipython",
    "version": 3
   },
   "file_extension": ".py",
   "mimetype": "text/x-python",
   "name": "python",
   "nbconvert_exporter": "python",
   "pygments_lexer": "ipython3",
   "version": "3.11.5"
  }
 },
 "nbformat": 4,
 "nbformat_minor": 5
}
